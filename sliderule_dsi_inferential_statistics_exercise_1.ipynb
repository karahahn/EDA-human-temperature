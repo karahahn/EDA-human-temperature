{
 "cells": [
  {
   "cell_type": "markdown",
   "metadata": {},
   "source": [
    "# What is the True Normal Human Body Temperature? \n",
    "\n",
    "#### Background\n",
    "\n",
    "The mean normal body temperature was held to be 37$^{\\circ}$C or 98.6$^{\\circ}$F for more than 120 years since it was first conceptualized and reported by Carl Wunderlich in a famous 1868 book. But, is this value statistically correct?"
   ]
  },
  {
   "cell_type": "markdown",
   "metadata": {},
   "source": [
    "<h3>Exercises</h3>\n",
    "\n",
    "<p>In this exercise, you will analyze a dataset of human body temperatures and employ the concepts of hypothesis testing, confidence intervals, and statistical significance.</p>\n",
    "\n",
    "<p>Answer the following questions <b>in this notebook below and submit to your Github account</b>.</p> \n",
    "\n",
    "<ol>\n",
    "<li>  Is the distribution of body temperatures normal? \n",
    "    <ul>\n",
    "    <li> Although this is not a requirement for the Central Limit Theorem to hold (read the introduction on Wikipedia's page about the CLT carefully: https://en.wikipedia.org/wiki/Central_limit_theorem), it gives us some peace of mind that the population may also be normally distributed if we assume that this sample is representative of the population.\n",
    "    <li> Think about the way you're going to check for the normality of the distribution. Graphical methods are usually used first, but there are also other ways: https://en.wikipedia.org/wiki/Normality_test\n",
    "    </ul>\n",
    "<li>  Is the sample size large? Are the observations independent?\n",
    "    <ul>\n",
    "    <li> Remember that this is a condition for the Central Limit Theorem, and hence the statistical tests we are using, to apply.\n",
    "    </ul>\n",
    "<li>  Is the true population mean really 98.6 degrees F?\n",
    "    <ul>\n",
    "    <li> First, try a bootstrap hypothesis test.\n",
    "    <li> Now, let's try frequentist statistical testing. Would you use a one-sample or two-sample test? Why?\n",
    "    <li> In this situation, is it appropriate to use the $t$ or $z$ statistic? \n",
    "    <li> Now try using the other test. How is the result be different? Why?\n",
    "    </ul>\n",
    "<li>  Draw a small sample of size 10 from the data and repeat both frequentist tests. \n",
    "    <ul>\n",
    "    <li> Which one is the correct one to use? \n",
    "    <li> What do you notice? What does this tell you about the difference in application of the $t$ and $z$ statistic?\n",
    "    </ul>\n",
    "<li>  At what temperature should we consider someone's temperature to be \"abnormal\"?\n",
    "    <ul>\n",
    "    <li> As in the previous example, try calculating everything using the boostrap approach, as well as the frequentist approach.\n",
    "    <li> Start by computing the margin of error and confidence interval. When calculating the confidence interval, keep in mind that you should use the appropriate formula for one draw, and not N draws.\n",
    "    </ul>\n",
    "<li>  Is there a significant difference between males and females in normal temperature?\n",
    "    <ul>\n",
    "    <li> What testing approach did you use and why?\n",
    "    <li> Write a story with your conclusion in the context of the original problem.\n",
    "    </ul>\n",
    "</ol>\n",
    "\n",
    "You can include written notes in notebook cells using Markdown: \n",
    "   - In the control panel at the top, choose Cell > Cell Type > Markdown\n",
    "   - Markdown syntax: http://nestacms.com/docs/creating-content/markdown-cheat-sheet\n",
    "\n",
    "#### Resources\n",
    "\n",
    "+ Information and data sources: http://www.amstat.org/publications/jse/datasets/normtemp.txt, http://www.amstat.org/publications/jse/jse_data_archive.htm\n",
    "+ Markdown syntax: http://nestacms.com/docs/creating-content/markdown-cheat-sheet\n",
    "\n",
    "****"
   ]
  },
  {
   "cell_type": "code",
   "execution_count": 1,
   "metadata": {},
   "outputs": [],
   "source": [
    "import pandas as pd\n",
    "import seaborn as sns\n",
    "from matplotlib import pyplot as plt\n",
    "import scipy.stats as stats\n",
    "import numpy as np\n",
    "import statsmodels.api as sm\n",
    "import statsmodels.formula.api as smf\n",
    "from statistics import stdev\n",
    "\n",
    "df = pd.read_csv('data/human_body_temperature.csv')"
   ]
  },
  {
   "cell_type": "markdown",
   "metadata": {},
   "source": [
    "## 1. Is the distribution of body temperatures normal?"
   ]
  },
  {
   "cell_type": "code",
   "execution_count": 2,
   "metadata": {},
   "outputs": [
    {
     "name": "stderr",
     "output_type": "stream",
     "text": [
      "/anaconda3/lib/python3.6/site-packages/matplotlib/axes/_axes.py:6462: UserWarning: The 'normed' kwarg is deprecated, and has been replaced by the 'density' kwarg.\n",
      "  warnings.warn(\"The 'normed' kwarg is deprecated, and has been \"\n"
     ]
    },
    {
     "data": {
      "image/png": "[encoded data removed]",
      "text/plain": [
       "<Figure size 432x288 with 1 Axes>"
      ]
     },
     "metadata": {},
     "output_type": "display_data"
    }
   ],
   "source": [
    "# Graphical checks for normality\n",
    "_ = sns.distplot(df.temperature, axlabel='Temperature')"
   ]
  },
  {
   "cell_type": "markdown",
   "metadata": {},
   "source": [
    "The histogram roughly follows the normal distribution, but we can check further. "
   ]
  },
  {
   "cell_type": "code",
   "execution_count": 3,
   "metadata": {},
   "outputs": [
    {
     "data": {
      "image/png": "[encoded data removed]",
      "text/plain": [
       "<Figure size 432x288 with 1 Axes>"
      ]
     },
     "metadata": {},
     "output_type": "display_data"
    }
   ],
   "source": [
    "_ = stats.probplot(df.temperature, dist='norm', plot=plt)\n",
    "_ = plt.title('Normal Q-Q Plot')\n",
    "plt.show()"
   ]
  },
  {
   "cell_type": "markdown",
   "metadata": {},
   "source": [
    "The linearity of the Q-Q plot shows that the body temperature data is normally distributed. "
   ]
  },
  {
   "cell_type": "markdown",
   "metadata": {},
   "source": [
    "\n",
    "\n",
    "Furthermore, we can do a statistical test to determine if the data is normal. We assume that the null hypothesis is that the body temperature data is normally distributed and the alternative hypothesis is that the data is not normally distributed. "
   ]
  },
  {
   "cell_type": "code",
   "execution_count": 4,
   "metadata": {},
   "outputs": [
    {
     "name": "stdout",
     "output_type": "stream",
     "text": [
      "p = 0.258748\n",
      "The null hypothesis cannot be rejected\n"
     ]
    }
   ],
   "source": [
    "# Statistical test\n",
    "s, p = stats.normaltest(df.temperature)\n",
    "alpha = 0.05\n",
    "print(\"p = {:g}\".format(p))\n",
    "\n",
    "if p < alpha:  # null hypothesis: x comes from a normal distribution\n",
    "    print(\"The null hypothesis can be rejected\")\n",
    "else:\n",
    "    print(\"The null hypothesis cannot be rejected\")\n"
   ]
  },
  {
   "cell_type": "markdown",
   "metadata": {},
   "source": [
    "Since the null hypothesis cannot be rejected, we can say that the data is normally distributed. "
   ]
  },
  {
   "cell_type": "markdown",
   "metadata": {},
   "source": [
    "From the graphical displays and tests, we can say that the distribution of body temperature data is normal."
   ]
  },
  {
   "cell_type": "markdown",
   "metadata": {},
   "source": [
    "## 2. Is the sample size large? Are the observations independent?"
   ]
  },
  {
   "cell_type": "code",
   "execution_count": 5,
   "metadata": {},
   "outputs": [
    {
     "data": {
      "text/plain": [
       "130"
      ]
     },
     "execution_count": 5,
     "metadata": {},
     "output_type": "execute_result"
    }
   ],
   "source": [
    "# Check if the sample size is large enough\n",
    "n = len(df.temperature)\n",
    "n"
   ]
  },
  {
   "cell_type": "markdown",
   "metadata": {},
   "source": [
    "Since n = 130 and n ≥ 30, the sample size is large."
   ]
  },
  {
   "cell_type": "markdown",
   "metadata": {},
   "source": [
    "To check if the observations are independent, we want to ensure that n ≤ 10% of the population. Given that the population is roughly 7.6 billion people we can check if our sample (n) is less than 10%."
   ]
  },
  {
   "cell_type": "markdown",
   "metadata": {},
   "source": [
    "We can say that the samples are independent because the temperature variable is not dependent on anything else."
   ]
  },
  {
   "cell_type": "markdown",
   "metadata": {},
   "source": [
    "## 3. Is the true population mean really 98.6 degrees F?\n"
   ]
  },
  {
   "cell_type": "markdown",
   "metadata": {},
   "source": [
    "To test if the true population mean is really 98.6 degrees F, we will do a bootstraps hypothesis test.\n",
    "\n",
    "Null hypothesis: the true mean body temperature is 98.6 degrees F\n",
    "\n",
    "Alternative hypothesis: the true mean body temperature is not 98.6 degrees F"
   ]
  },
  {
   "cell_type": "code",
   "execution_count": 6,
   "metadata": {
    "scrolled": true
   },
   "outputs": [
    {
     "name": "stdout",
     "output_type": "stream",
     "text": [
      "bootstrap p value:\t 0.0\n"
     ]
    }
   ],
   "source": [
    "# Bootstrap hypothesis test\n",
    "bs_replicates = np.empty(10000)\n",
    "size = len(bs_replicates)\n",
    "for i in range(size):\n",
    "    bs_replicates[i] = np.mean(np.random.choice(df.temperature, size = len(df.temperature)))\n",
    "p_value = np.sum(bs_replicates >= 98.6)/size\n",
    "print('bootstrap p value:\\t', p_value)"
   ]
  },
  {
   "cell_type": "markdown",
   "metadata": {},
   "source": [
    "The p value = 0, which is less than 0.05, indicates that the null hypothesis can be rejected and that the alternative hypothesis is true."
   ]
  },
  {
   "cell_type": "markdown",
   "metadata": {},
   "source": [
    "Next, we will do a frequentist statistical testing. We will choose a one-sample test because we are testing the one set of data against the population mean. Since n ≥ 30, we can use the z test statistic.\n",
    "\n",
    "\n",
    "The null hypothesis is that the true mean body temperature is 98.6 degrees F\n",
    "\n",
    "The alternative hypothesis is that the true mean body temperature is not 98.6 degrees F"
   ]
  },
  {
   "cell_type": "code",
   "execution_count": 7,
   "metadata": {},
   "outputs": [
    {
     "name": "stdout",
     "output_type": "stream",
     "text": [
      "We can reject the null hypothesis\n",
      "p =  2.1761575829410943e-08\n"
     ]
    }
   ],
   "source": [
    "# one sample z test\n",
    "pop_mean = 98.6\n",
    "sample_mean = np.mean(df.temperature)\n",
    "sample_std = np.std(df.temperature)\n",
    "z = (sample_mean - pop_mean)/(sample_std/np.sqrt(n))\n",
    "p = stats.norm.sf(abs(z))\n",
    "if p <= 0.05: print('We can reject the null hypothesis')\n",
    "print('p = ', p)"
   ]
  },
  {
   "cell_type": "code",
   "execution_count": 8,
   "metadata": {},
   "outputs": [
    {
     "name": "stdout",
     "output_type": "stream",
     "text": [
      "The sample mean is  98.24923076923078\n"
     ]
    }
   ],
   "source": [
    "print ('The sample mean is ', sample_mean)"
   ]
  },
  {
   "cell_type": "markdown",
   "metadata": {},
   "source": [
    "The sample mean is 98.2 which is significantly less than the population mean of 98.6 since the p-value is much smaller than the alpha value of 0.05. We can say that the true mean body temperature is not 98.6 degrees F because the p-value is very small, and thus statistically significant at a 95% confidence interval."
   ]
  },
  {
   "cell_type": "markdown",
   "metadata": {},
   "source": [
    "Next, a one-sample test using the t test statistic will be used.\n",
    "\n",
    "The null hypothesis is that the true mean body temperature is 98.6 degrees F\n",
    "\n",
    "The alternative hypothesis is that the true mean body temperature is not 98.6 degrees F"
   ]
  },
  {
   "cell_type": "code",
   "execution_count": 9,
   "metadata": {},
   "outputs": [
    {
     "name": "stdout",
     "output_type": "stream",
     "text": [
      "We can reject the null hypothesis\n",
      "p =  2.4106320415561276e-07\n"
     ]
    }
   ],
   "source": [
    "# one sample t test\n",
    "t, p = stats.ttest_1samp(df.temperature, pop_mean)\n",
    "[t,p]\n",
    "if p <= 0.05: print('We can reject the null hypothesis')\n",
    "print('p = ', p)"
   ]
  },
  {
   "cell_type": "markdown",
   "metadata": {},
   "source": [
    "Since we can reject the null hypothesis, we can say the true body temperature is not 98.6 degrees F. The p value determined from the t-test and the z-test are different, however both are small enough to reject the null hypothesis. The p value from the t-test is larger than that of the z-test, which indicates a slightly less confident statistic; however, still small enough to reject the null hypothesis."
   ]
  },
  {
   "cell_type": "markdown",
   "metadata": {},
   "source": [
    "## 4. Draw a small sample of size 10 from the data and repeat both frequentist tests."
   ]
  },
  {
   "cell_type": "code",
   "execution_count": 10,
   "metadata": {},
   "outputs": [
    {
     "name": "stdout",
     "output_type": "stream",
     "text": [
      "[98.7 97.4 98.4 97.5 97.1 99.  98.6 99.5 98.6 98.2]\n"
     ]
    }
   ],
   "source": [
    "# sample n=10\n",
    "n = np.random.choice(df.temperature, size=10)\n",
    "print(n)"
   ]
  },
  {
   "cell_type": "code",
   "execution_count": 11,
   "metadata": {},
   "outputs": [
    {
     "name": "stdout",
     "output_type": "stream",
     "text": [
      "The sample mean is  98.30000000000001 and the p value is  0.09373101630825004\n"
     ]
    }
   ],
   "source": [
    "# one sample z test\n",
    "mean = np.mean(n)\n",
    "std = np.std(n)\n",
    "z = (mean - pop_mean)/(std/np.sqrt(len(n)))\n",
    "p = stats.norm.sf(abs(z))\n",
    "if p <= 0.05: print('We can reject the null hypothesis')\n",
    "print('The sample mean is ', mean, 'and the p value is ', p)"
   ]
  },
  {
   "cell_type": "markdown",
   "metadata": {},
   "source": [
    "The sample mean is 97.9 which is significantly less than the population mean of 98.6 since the p value is less than alpha."
   ]
  },
  {
   "cell_type": "code",
   "execution_count": 12,
   "metadata": {},
   "outputs": [
    {
     "name": "stdout",
     "output_type": "stream",
     "text": [
      "p =  0.2426561302412845\n"
     ]
    }
   ],
   "source": [
    "# one sample t test\n",
    "t, p = stats.ttest_1samp(n, 98.6)\n",
    "[t,p]\n",
    "if p <= 0.05: print('We can reject the null hypothesis')\n",
    "print('p = ', p)"
   ]
  },
  {
   "cell_type": "markdown",
   "metadata": {},
   "source": [
    "We should use the t test since the sample size is small (n ≤ 30). The p value from the t statistic is much larger than that of the z statistic. Since we don't know the sample standard deviation, there is a greater uncertainty with the t test, thus a more conservative p value. "
   ]
  },
  {
   "cell_type": "markdown",
   "metadata": {},
   "source": [
    "## 5. At what temperature should we consider someone's temperature to be \"abnormal\"?"
   ]
  },
  {
   "cell_type": "code",
   "execution_count": 13,
   "metadata": {},
   "outputs": [
    {
     "name": "stdout",
     "output_type": "stream",
     "text": [
      "Margin of error =  0.125550964802579\n"
     ]
    }
   ],
   "source": [
    "# Margin of error\n",
    "z = 1.96\n",
    "error = z * np.std(df.temperature)/np.sqrt(len(df.temperature))\n",
    "print('Margin of error = ', error)"
   ]
  },
  {
   "cell_type": "code",
   "execution_count": 14,
   "metadata": {},
   "outputs": [
    {
     "name": "stdout",
     "output_type": "stream",
     "text": [
      "Confidence interval =  [96.7225 99.4775]\n"
     ]
    }
   ],
   "source": [
    "# Confidence interval at 95%\n",
    "ci = np.percentile(df.temperature, [2.5, 97.5])\n",
    "print('Confidence interval = ', ci)"
   ]
  },
  {
   "cell_type": "markdown",
   "metadata": {},
   "source": [
    "An abnormal temperature is one that is outside the 95% confidence interval. Thus, an abnormal temperature is less than 96.7 or greater than 99.5 degrees."
   ]
  },
  {
   "cell_type": "code",
   "execution_count": 15,
   "metadata": {},
   "outputs": [
    {
     "name": "stdout",
     "output_type": "stream",
     "text": [
      "Bootstrap confidence interval: [98.12307692 98.37615385]\n"
     ]
    }
   ],
   "source": [
    "# Bootstrap approach\n",
    "bs_replicates = np.empty(10000)\n",
    "size = len(bs_replicates)\n",
    "for i in range(size):\n",
    "    bs_replicates[i] = np.mean(np.random.choice(df.temperature, size = len(df.temperature)))\n",
    "bs_ci = np.percentile(bs_replicates, [2.5, 97.5])\n",
    "print('Bootstrap confidence interval:', bs_ci)"
   ]
  },
  {
   "cell_type": "code",
   "execution_count": 16,
   "metadata": {},
   "outputs": [
    {
     "name": "stdout",
     "output_type": "stream",
     "text": [
      "(96.81775582674824, 99.68070571171332)\n"
     ]
    }
   ],
   "source": [
    "# One sample z test \n",
    "mean = np.mean(df.temperature)\n",
    "std = np.std(df.temperature)\n",
    "ci = stats.norm.interval(0.95, loc=mean, scale = std)\n",
    "print(ci)"
   ]
  },
  {
   "cell_type": "markdown",
   "metadata": {},
   "source": [
    "From the one sample z test at a 95%, the abnormal body temperatures fall outside the confidence interval, thus temperatures less than 96.8 or greater than 99.7 degrees F are considered \"abnormal\". "
   ]
  },
  {
   "cell_type": "markdown",
   "metadata": {},
   "source": [
    "## 6. Is there a significant difference between males and females in normal temperature?"
   ]
  },
  {
   "cell_type": "raw",
   "metadata": {},
   "source": [
    "To test if there is a significant difference between M and F we will do a two-sample test using two independent samples: M and F. We will use this test because we want to determine if there is a significant difference between two populations.\n",
    "\n",
    "The null hypothesis is that the population means of the two groups are not significantly different.\n",
    "\n",
    "The alternative hypothesis is that the population mean of the two groups are significantly different."
   ]
  },
  {
   "cell_type": "code",
   "execution_count": 17,
   "metadata": {},
   "outputs": [
    {
     "data": {
      "text/plain": [
       "[-2.2854345381656103, 0.02393188312239561]"
      ]
     },
     "execution_count": 17,
     "metadata": {},
     "output_type": "execute_result"
    }
   ],
   "source": [
    "# two sample t test\n",
    "df_male = df[df['gender'] == 'M']\n",
    "df_female = df[df['gender'] == 'F']\n",
    "t, p = stats.ttest_ind(df_male.temperature, df_female.temperature)\n",
    "[t,p]"
   ]
  },
  {
   "cell_type": "markdown",
   "metadata": {},
   "source": [
    "Since the p-value < 0.05 we can reject the null hypothesis and say that the population mean of males and females are significantly different. "
   ]
  },
  {
   "cell_type": "markdown",
   "metadata": {},
   "source": [
    "## Conclusion"
   ]
  },
  {
   "cell_type": "markdown",
   "metadata": {},
   "source": [
    "The mean normal body temperature was held to be 37$^{\\circ}$C or 98.6$^{\\circ}$F for more than 120 years since it was first conceptualized and reported by Carl Wunderlich in a famous 1868 book. However, through statistical analysis it has been determined that the mean normal body temperature is not 98.6 degrees F. Additionally, there is a significant difference between the average male body temperature and average female body temperature. "
   ]
  }
 ],
 "metadata": {
  "kernelspec": {
   "display_name": "Python 3",
   "language": "python",
   "name": "python3"
  },
  "language_info": {
   "codemirror_mode": {
    "name": "ipython",
    "version": 3
   },
   "file_extension": ".py",
   "mimetype": "text/x-python",
   "name": "python",
   "nbconvert_exporter": "python",
   "pygments_lexer": "ipython3",
   "version": "3.6.5"
  }
 },
 "nbformat": 4,
 "nbformat_minor": 1
}
